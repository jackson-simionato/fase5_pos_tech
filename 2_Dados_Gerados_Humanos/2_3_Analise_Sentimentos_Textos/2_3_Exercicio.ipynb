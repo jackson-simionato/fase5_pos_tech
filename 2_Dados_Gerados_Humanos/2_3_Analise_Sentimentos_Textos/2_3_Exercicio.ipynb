{
 "cells": [
  {
   "cell_type": "code",
   "execution_count": 3,
   "metadata": {},
   "outputs": [
    {
     "data": {
      "text/html": [
       "<div>\n",
       "<style scoped>\n",
       "    .dataframe tbody tr th:only-of-type {\n",
       "        vertical-align: middle;\n",
       "    }\n",
       "\n",
       "    .dataframe tbody tr th {\n",
       "        vertical-align: top;\n",
       "    }\n",
       "\n",
       "    .dataframe thead th {\n",
       "        text-align: right;\n",
       "    }\n",
       "</style>\n",
       "<table border=\"1\" class=\"dataframe\">\n",
       "  <thead>\n",
       "    <tr style=\"text-align: right;\">\n",
       "      <th></th>\n",
       "      <th>id</th>\n",
       "      <th>data_tweet</th>\n",
       "      <th>texto</th>\n",
       "      <th>sentimento</th>\n",
       "    </tr>\n",
       "  </thead>\n",
       "  <tbody>\n",
       "    <tr>\n",
       "      <th>0</th>\n",
       "      <td>0</td>\n",
       "      <td>Sun Jan 08 01:22:05 +0000 2017</td>\n",
       "      <td>���⛪ @ Catedral de Santo Antônio - Governador ...</td>\n",
       "      <td>Neutro</td>\n",
       "    </tr>\n",
       "    <tr>\n",
       "      <th>1</th>\n",
       "      <td>1</td>\n",
       "      <td>Sun Jan 08 01:49:01 +0000 2017</td>\n",
       "      <td>� @ Governador Valadares, Minas Gerais https:/...</td>\n",
       "      <td>Neutro</td>\n",
       "    </tr>\n",
       "    <tr>\n",
       "      <th>2</th>\n",
       "      <td>2</td>\n",
       "      <td>Sun Jan 08 01:01:46 +0000 2017</td>\n",
       "      <td>�� @ Governador Valadares, Minas Gerais https:...</td>\n",
       "      <td>Neutro</td>\n",
       "    </tr>\n",
       "    <tr>\n",
       "      <th>3</th>\n",
       "      <td>3</td>\n",
       "      <td>Wed Jan 04 21:43:51 +0000 2017</td>\n",
       "      <td>��� https://t.co/BnDsO34qK0</td>\n",
       "      <td>Neutro</td>\n",
       "    </tr>\n",
       "    <tr>\n",
       "      <th>4</th>\n",
       "      <td>4</td>\n",
       "      <td>Mon Jan 09 15:08:21 +0000 2017</td>\n",
       "      <td>��� PSOL vai questionar aumento de vereadores ...</td>\n",
       "      <td>Negativo</td>\n",
       "    </tr>\n",
       "  </tbody>\n",
       "</table>\n",
       "</div>"
      ],
      "text/plain": [
       "   id                      data_tweet  \\\n",
       "0   0  Sun Jan 08 01:22:05 +0000 2017   \n",
       "1   1  Sun Jan 08 01:49:01 +0000 2017   \n",
       "2   2  Sun Jan 08 01:01:46 +0000 2017   \n",
       "3   3  Wed Jan 04 21:43:51 +0000 2017   \n",
       "4   4  Mon Jan 09 15:08:21 +0000 2017   \n",
       "\n",
       "                                               texto sentimento  \n",
       "0  ���⛪ @ Catedral de Santo Antônio - Governador ...     Neutro  \n",
       "1  � @ Governador Valadares, Minas Gerais https:/...     Neutro  \n",
       "2  �� @ Governador Valadares, Minas Gerais https:...     Neutro  \n",
       "3                        ��� https://t.co/BnDsO34qK0     Neutro  \n",
       "4  ��� PSOL vai questionar aumento de vereadores ...   Negativo  "
      ]
     },
     "execution_count": 3,
     "metadata": {},
     "output_type": "execute_result"
    }
   ],
   "source": [
    "import pandas as pd\n",
    "import re, string, unicodedata, nltk\n",
    "from nltk.tokenize import word_tokenize\n",
    "from nltk.corpus import stopwords\n",
    "\n",
    "df = pd.read_csv('../../data/bases_disciplina_2/tweets_classificados.csv', encoding='utf-8')\n",
    "df.head()"
   ]
  },
  {
   "cell_type": "markdown",
   "metadata": {},
   "source": [
    "# ToDo 1\n",
    "\n",
    "Altere as funções de tratamento de texto apresentadas em sala para que elas façam a remoção de links também.\n",
    "\n",
    "Crie uma nova coluna chamada texto_tratado que conterá o resultado da aplicação das funções."
   ]
  },
  {
   "cell_type": "markdown",
   "metadata": {},
   "source": [
    "## Funções existentes"
   ]
  },
  {
   "cell_type": "code",
   "execution_count": 40,
   "metadata": {},
   "outputs": [],
   "source": [
    "# Remove acentos\n",
    "def normalize_accents(text):\n",
    "    return unicodedata.normalize('NFKD', text).encode('ASCII', 'ignore').decode('utf-8')\n",
    "\n",
    "# Remove pontuação\n",
    "def remove_punctuaction(text):\n",
    "    punctiations = string.punctuation\n",
    "    table = str.maketrans({key: \" \" for key in punctiations})\n",
    "    text = text.translate(table)\n",
    "    return text\n",
    "\n",
    "# Remove URLs\n",
    "def remove_links(text):\n",
    "    return re.sub(r\"\\S*https?:\\S*\", \"\", text)\n",
    "\n",
    "# Converte para minusculua, aplica funções de normalização e retira espaços em branco adicionais\n",
    "def normalize_str(text):\n",
    "    text = text.lower()\n",
    "    text = remove_links(text)\n",
    "    text = remove_punctuaction(text)\n",
    "    text = normalize_accents(text)\n",
    "    text = re.sub(re.compile(r\" +\"),\" \", text)\n",
    "    return ' '.join([w for w in text.split()])\n",
    "\n",
    "# Função completa de tokenização com exclusão de stopwords e verificação de dtype\n",
    "def tokenizer(text):\n",
    "    stop_words = nltk.corpus.stopwords.words('english')\n",
    "\n",
    "    if isinstance(text, str):\n",
    "        text = normalize_str(text)\n",
    "        text = ''.join([w for w in text if not w.isdigit()])\n",
    "        text = word_tokenize(text)\n",
    "        text = [x for x in text if x not in stop_words]\n",
    "        text = [y for y in text if len(y) >= 2]\n",
    "        return ' '.join([t for t in text])\n",
    "    else:\n",
    "        print('Not a string')"
   ]
  },
  {
   "cell_type": "code",
   "execution_count": 43,
   "metadata": {},
   "outputs": [
    {
     "data": {
      "text/plain": [
       "'meu link'"
      ]
     },
     "execution_count": 43,
     "metadata": {},
     "output_type": "execute_result"
    }
   ],
   "source": [
    "tokenizer('Meu link é asdasd(https://twitterr34321)sadasd')"
   ]
  },
  {
   "cell_type": "markdown",
   "metadata": {},
   "source": [
    "# ToDo 2\n",
    "\n",
    "Ao fazer a remoção de links, percebemos que algumas linhas da coluna texto_tratado possuem valores faltantes. Entretanto, o Python trata eles como ''(str) e nao como Null. Assim, um simples dropna nao resolve o problema.\n",
    "\n",
    "Encontre uma forma de remover tais elementos. Dica: use o índice das linhas cujos elementos da coluna texto_tratado seja nulo."
   ]
  },
  {
   "cell_type": "code",
   "execution_count": 44,
   "metadata": {},
   "outputs": [],
   "source": [
    "df['texto_norm'] = df['texto'].apply(tokenizer)"
   ]
  },
  {
   "cell_type": "code",
   "execution_count": 49,
   "metadata": {},
   "outputs": [
    {
     "data": {
      "text/plain": [
       "id             0\n",
       "data_tweet     0\n",
       "texto          0\n",
       "sentimento     0\n",
       "texto_norm    12\n",
       "dtype: int64"
      ]
     },
     "execution_count": 49,
     "metadata": {},
     "output_type": "execute_result"
    }
   ],
   "source": [
    "df.loc[df['texto_norm'] == '', 'texto_norm'] = None\n",
    "\n",
    "df.isna().sum()"
   ]
  },
  {
   "cell_type": "code",
   "execution_count": 50,
   "metadata": {},
   "outputs": [],
   "source": [
    "df.dropna(subset=['texto_norm'], inplace=True)"
   ]
  },
  {
   "cell_type": "code",
   "execution_count": 51,
   "metadata": {},
   "outputs": [
    {
     "name": "stdout",
     "output_type": "stream",
     "text": [
      "(5763, 5)\n"
     ]
    }
   ],
   "source": [
    "print(df.shape)"
   ]
  }
 ],
 "metadata": {
  "kernelspec": {
   "display_name": "pyspark_env",
   "language": "python",
   "name": "python3"
  },
  "language_info": {
   "codemirror_mode": {
    "name": "ipython",
    "version": 3
   },
   "file_extension": ".py",
   "mimetype": "text/x-python",
   "name": "python",
   "nbconvert_exporter": "python",
   "pygments_lexer": "ipython3",
   "version": "3.10.9"
  }
 },
 "nbformat": 4,
 "nbformat_minor": 2
}
